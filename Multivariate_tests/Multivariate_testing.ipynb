{
 "cells": [
  {
   "cell_type": "markdown",
   "id": "f5a30b5d",
   "metadata": {},
   "source": [
    "# Multivariate testing enables to test more than 1 pilot in A/B-tests\n",
    "Любая компания живет в условиях где хочется проверить много гипотез, хочется замечать наименьшие эффекты потому что чаще всего эффекты незначительны, а еще если тесты долго стоят в очереди то компания теряет деньги. Возникает соблазн провести параллельно много экспериментов, давайте посмотрим как это можно сделать “правильно”:\n",
    "\n",
    "## Experiment input:\n",
    "Design team in our Spotify APP decided to test new Main Menu Colors that supposed to drive an Average Number of Listened Songs per user during experimental period. The number of colors that might possibly drive a target metric == 10. Experiment was already designed end conducted. Our goal is to conduct post analysis to make decisions. Test Duration is 1 week"
   ]
  },
  {
   "cell_type": "code",
   "execution_count": null,
   "id": "457f7611",
   "metadata": {},
   "outputs": [],
   "source": [
    "alpha = 0.01\n",
    "beta = 0.1\n",
    "mde = 5 # Minimum Detectable Effect in our test == 5 songs \n",
    "sample_size = 1000\n",
    "\n"
   ]
  }
 ],
 "metadata": {
  "kernelspec": {
   "display_name": "Python 3 (ipykernel)",
   "language": "python",
   "name": "python3"
  },
  "language_info": {
   "codemirror_mode": {
    "name": "ipython",
    "version": 3
   },
   "file_extension": ".py",
   "mimetype": "text/x-python",
   "name": "python",
   "nbconvert_exporter": "python",
   "pygments_lexer": "ipython3",
   "version": "3.11.3"
  }
 },
 "nbformat": 4,
 "nbformat_minor": 5
}
