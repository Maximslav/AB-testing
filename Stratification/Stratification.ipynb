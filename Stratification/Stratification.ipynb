{
 "cells": [
  {
   "cell_type": "code",
   "execution_count": 1,
   "id": "b6b4e60c",
   "metadata": {},
   "outputs": [],
   "source": [
    "import pandas as pd\n",
    "import numpy as np\n",
    "import scipy.stats as stats\n",
    "import math\n",
    "import seaborn as sns\n",
    "import matplotlib.pyplot as plt\n",
    "from datetime import datetime\n",
    "import warnings\n",
    "from tqdm import tqdm\n",
    "import time\n",
    "warnings.filterwarnings('ignore')"
   ]
  },
  {
   "cell_type": "markdown",
   "id": "17a85de8",
   "metadata": {},
   "source": [
    "# Stratification method to reduce varience: \n",
    "\n",
    "One of the most common methods to increase our A/B test's power. Stratification allows to reduce varience of the data by reweighing each observation. \n",
    "\n",
    "# Experiment input:\n",
    "The Analytics team of marketplace was asked to design the A/B test for the new feature. New feature was a new cart that uses purchased and added to cart products to offer an upsaling products. Example: a user added pair of leather shoes in the cart. The new fancy cart offers to buy Leather shoe cleaning kit in addition. The experiment will last for 2 weeks. Metric = The Average Order Value Per Client. A User \"takes part\" in experiment in case he was allocated in pilot group + made a purchase. The Analyst in our team provided the historical data of users who made a purchase over last 2 weeks\n",
    "\n",
    "\n",
    "### Data description:\n",
    "1. user_id:: unique user identifier\n",
    "2. aov:: average order value of the user. Ex: user made first purchase 80 000 and second one 100 000, aov = 90 000\n",
    "3. strat: user strat group that represents OS system. Strat == 1 if users uses IOS, Strat == 2 if users uses Android"
   ]
  },
  {
   "cell_type": "code",
   "execution_count": 2,
   "id": "470bf380",
   "metadata": {},
   "outputs": [
    {
     "data": {
      "text/html": [
       "<div>\n",
       "<style scoped>\n",
       "    .dataframe tbody tr th:only-of-type {\n",
       "        vertical-align: middle;\n",
       "    }\n",
       "\n",
       "    .dataframe tbody tr th {\n",
       "        vertical-align: top;\n",
       "    }\n",
       "\n",
       "    .dataframe thead th {\n",
       "        text-align: right;\n",
       "    }\n",
       "</style>\n",
       "<table border=\"1\" class=\"dataframe\">\n",
       "  <thead>\n",
       "    <tr style=\"text-align: right;\">\n",
       "      <th></th>\n",
       "      <th>user_id</th>\n",
       "      <th>aov</th>\n",
       "      <th>strat</th>\n",
       "    </tr>\n",
       "  </thead>\n",
       "  <tbody>\n",
       "    <tr>\n",
       "      <th>0</th>\n",
       "      <td>1</td>\n",
       "      <td>389737.132241</td>\n",
       "      <td>1</td>\n",
       "    </tr>\n",
       "    <tr>\n",
       "      <th>1</th>\n",
       "      <td>2</td>\n",
       "      <td>338938.855906</td>\n",
       "      <td>1</td>\n",
       "    </tr>\n",
       "    <tr>\n",
       "      <th>2</th>\n",
       "      <td>3</td>\n",
       "      <td>401815.083048</td>\n",
       "      <td>1</td>\n",
       "    </tr>\n",
       "    <tr>\n",
       "      <th>3</th>\n",
       "      <td>4</td>\n",
       "      <td>471842.388513</td>\n",
       "      <td>1</td>\n",
       "    </tr>\n",
       "    <tr>\n",
       "      <th>4</th>\n",
       "      <td>5</td>\n",
       "      <td>331267.730022</td>\n",
       "      <td>1</td>\n",
       "    </tr>\n",
       "  </tbody>\n",
       "</table>\n",
       "</div>"
      ],
      "text/plain": [
       "   user_id            aov  strat\n",
       "0        1  389737.132241      1\n",
       "1        2  338938.855906      1\n",
       "2        3  401815.083048      1\n",
       "3        4  471842.388513      1\n",
       "4        5  331267.730022      1"
      ]
     },
     "execution_count": 2,
     "metadata": {},
     "output_type": "execute_result"
    }
   ],
   "source": [
    "df = pd.read_csv('data.csv')\n",
    "df.head(5)"
   ]
  },
  {
   "cell_type": "code",
   "execution_count": 3,
   "id": "242f40c1",
   "metadata": {},
   "outputs": [
    {
     "name": "stdout",
     "output_type": "stream",
     "text": [
      "\n",
      "Metric (Average Order Value) = 287475\n",
      "Standard Deviation = 103449\n",
      "N of IOS users = 35000\n",
      "N of Android users = 25000\n",
      "\n"
     ]
    }
   ],
   "source": [
    "# Let's look at our data\n",
    "mu = df.aov.mean()\n",
    "var = df.aov.var()\n",
    "std = df.aov.std()\n",
    "n_ios = df[df['strat'] == 1].shape[0]\n",
    "n_android = df[df['strat'] == 2].shape[0]\n",
    "print(f\"\"\"\n",
    "Metric (Average Order Value) = {round(mu)}\n",
    "Standard Deviation = {round(std)}\n",
    "N of IOS users = {n_ios}\n",
    "N of Android users = {n_android}\n",
    "\"\"\")"
   ]
  },
  {
   "cell_type": "markdown",
   "id": "081e9f61",
   "metadata": {},
   "source": [
    "## We can estimate the Sample Size for T-test given Alpha Beta and MDE"
   ]
  },
  {
   "cell_type": "code",
   "execution_count": 4,
   "id": "a2b693c6",
   "metadata": {},
   "outputs": [
    {
     "name": "stdout",
     "output_type": "stream",
     "text": [
      "Sample Size = 8996\n"
     ]
    }
   ],
   "source": [
    "alpha = 0.05\n",
    "beta = 0.1\n",
    "mde = 5000\n",
    "\n",
    "def get_sample_size(mde, std, alpha, beta):\n",
    "    numerator = 2 * (stats.norm.ppf(1-alpha/2) + stats.norm.ppf(1-beta))**2 * std**2\n",
    "    denominator = mde**2\n",
    "    return math.ceil(numerator / denominator)\n",
    "\n",
    "sample_size = get_sample_size(mde, std, alpha, beta)\n",
    "print(f'Sample Size = {sample_size}')"
   ]
  },
  {
   "cell_type": "markdown",
   "id": "e7e7af53",
   "metadata": {},
   "source": [
    "# Sample size is > 9000 observations, but...\n",
    "Reminder: Our experiment \"works\" on users that not only were allocated in Pilot group, but made at least one purchase as well. But our testing feature for sure appears to users before we know if he is going to complete an order or not. Let's allocate \"additional\" users to our experiment taking into account the conversion rate from main page to purchase. In case we have conversion rate 10% we would need 89 960 users for the experiment. It is much more than our team can afford to allocate for the Experiment. Let's use the Stratification method in order to reduce Varience and Increase the Power of our experiment\n",
    "\n",
    "### Stratification works the most in case there is a decent difference between stratification means and a little varience inside the Strat. Look at the Steps:\n",
    "1. Determine the weights of each strat\n",
    "2. Estimate the Strat means and Strat Varience"
   ]
  },
  {
   "cell_type": "code",
   "execution_count": 5,
   "id": "568619a1",
   "metadata": {},
   "outputs": [
    {
     "name": "stdout",
     "output_type": "stream",
     "text": [
      "\n",
      "IOS: weight = 0.58, mean = 349851, std = 80208\n",
      "Android: weight = 0.42, mean = 200148, std = 60036\n",
      "\n"
     ]
    }
   ],
   "source": [
    "w1 = df[df['strat'] == 1].shape[0] / df.shape[0]\n",
    "w2 = df[df['strat'] == 2].shape[0] / df.shape[0]\n",
    "\n",
    "mean1 = df[df['strat'] == 1].aov.mean()\n",
    "mean2 = df[df['strat'] == 2].aov.mean()\n",
    "\n",
    "var1 = df[df['strat'] == 1].aov.var()\n",
    "var2 = df[df['strat'] == 2].aov.var()\n",
    "\n",
    "print(f\"\"\"\n",
    "IOS: weight = {round(w1,2)}, mean = {round(mean1)}, std = {round(math.sqrt(var1))}\n",
    "Android: weight = {round(w2,2)}, mean = {round(mean2)}, std = {round(math.sqrt(var2))}\n",
    "\"\"\")"
   ]
  },
  {
   "cell_type": "code",
   "execution_count": 6,
   "id": "ef1d5e19",
   "metadata": {},
   "outputs": [
    {
     "name": "stdout",
     "output_type": "stream",
     "text": [
      "\n",
      "Simple Varience = 10701683256.55\n",
      "Stratification Varience = 5254577285.44\n",
      "Difference = 50.9%\n",
      "\n"
     ]
    }
   ],
   "source": [
    "# Let's estimate the Stratification Varience of our population:\n",
    "def get_strat_mean(df):\n",
    "    df = df.groupby('strat', as_index=False) \\\n",
    "        .agg({'aov':'mean'}) \\\n",
    "        .assign(weight = lambda x: np.where(x['strat'] == 1, w1, w2)) \\\n",
    "        .assign(weighted_var = lambda x: x['aov'] * x['weight'])\n",
    "    return df.weighted_var.sum()\n",
    "\n",
    "def get_strat_var(df): # Function calculates stratification varience\n",
    "    df = df.groupby('strat', as_index=False) \\\n",
    "        .agg({'aov':'var'}) \\\n",
    "        .assign(weight = lambda x: np.where(x['strat'] == 1, w1, w2)) \\\n",
    "        .assign(weighted_var = lambda x: x['aov'] * x['weight'])\n",
    "    return df.weighted_var.sum()\n",
    "\n",
    "strat_var = get_strat_var(df)\n",
    "print(f\"\"\"\n",
    "Simple Varience = {round(var,2)}\n",
    "Stratification Varience = {round(strat_var, 2)}\n",
    "Difference = {round((var-strat_var) / var * 100,2)}%\n",
    "\"\"\")"
   ]
  },
  {
   "cell_type": "markdown",
   "id": "2632f472",
   "metadata": {},
   "source": [
    "# We did reduce our varience by 51%\n",
    "Which means we are able to reduce our varience by 51% as well. Let's see:"
   ]
  },
  {
   "cell_type": "code",
   "execution_count": 7,
   "id": "94ed0617",
   "metadata": {},
   "outputs": [
    {
     "name": "stdout",
     "output_type": "stream",
     "text": [
      "\n",
      "Sample size WITHOUT stratification = 8996\n",
      "Sample_size WITH stratification = 4417\n",
      "Difference = 4579\n",
      "\n"
     ]
    }
   ],
   "source": [
    "s_sample_size = get_sample_size(mde, math.sqrt(strat_var), alpha, beta)\n",
    "print(f\"\"\"\n",
    "Sample size WITHOUT stratification = {sample_size}\n",
    "Sample_size WITH stratification = {s_sample_size}\n",
    "Difference = {sample_size-s_sample_size}\n",
    "\"\"\")"
   ]
  },
  {
   "cell_type": "code",
   "execution_count": null,
   "id": "2c756295",
   "metadata": {},
   "outputs": [],
   "source": []
  },
  {
   "cell_type": "markdown",
   "id": "5d6bf40a",
   "metadata": {},
   "source": [
    "# Validation of our design:\n",
    "First let's see if the False Positive rate is on our design level 0.05"
   ]
  },
  {
   "cell_type": "code",
   "execution_count": 8,
   "id": "3a486102",
   "metadata": {},
   "outputs": [
    {
     "name": "stderr",
     "output_type": "stream",
     "text": [
      "100%|████████████████████████████████████| 10000/10000 [00:59<00:00, 168.62it/s]\n"
     ]
    },
    {
     "name": "stdout",
     "output_type": "stream",
     "text": [
      "False Positive Rate = 0.0507\n"
     ]
    },
    {
     "data": {
      "image/png": "[encoded data removed]",
      "text/plain": [
       "<Figure size 1200x400 with 2 Axes>"
      ]
     },
     "metadata": {},
     "output_type": "display_data"
    }
   ],
   "source": [
    "def get_pvalue(a_mean, b_mean, a_var, b_var): # Function calculates pvalue given stratification varience\n",
    "    \"\"\"\n",
    "    a:: control group values\n",
    "    b:: pilot group values\n",
    "    strat_var:: stratification varience of the sample\n",
    "    \"\"\"\n",
    "    delta = b_mean - a_mean\n",
    "    se = math.sqrt(a_var/len(a) + b_var/len(b))\n",
    "    t = delta/se\n",
    "    pvalue = 2 * (1 - stats.norm.cdf(np.abs(t)))\n",
    "    return pvalue\n",
    "\n",
    "def plot_pvalue_ecdf(pvalues, title=None): # Function creates P-value empirical distribution\n",
    "    fig, (ax1, ax2) = plt.subplots(1, 2, figsize=(12, 4))\n",
    "\n",
    "    if title:\n",
    "        plt.suptitle(title)\n",
    "\n",
    "    sns.histplot(pvalues, ax=ax1, bins=20, stat='density')\n",
    "    ax1.plot([0,1],[1,1], 'k--')\n",
    "    ax1.set(xlabel='p-value', ylabel='Density')\n",
    "\n",
    "    sns.ecdfplot(pvalues, ax=ax2)\n",
    "    ax2.plot([0,1],[0,1], 'k--')\n",
    "    ax2.set(xlabel='p-value', ylabel='Probability')\n",
    "    ax2.grid()\n",
    "\n",
    "pvalues_aa = []\n",
    "users_list = df.user_id.to_list()\n",
    "for i in tqdm(range(10000)):\n",
    "    np.random.shuffle(users_list)\n",
    "    a_group, b_group = users_list[:s_sample_size], users_list[len(users_list) - s_sample_size:]\n",
    "    a, b = df[df['user_id'].isin(a_group)], df[df['user_id'].isin(b_group)]\n",
    "    a_var, b_var = get_strat_var(a), get_strat_var(b)\n",
    "    a_mean, b_mean = get_strat_mean(a), get_strat_mean(b)\n",
    "    pvalue = get_pvalue(a_mean, b_mean, a_var, b_var)\n",
    "    pvalues_aa.append(pvalue)\n",
    "    \n",
    "plot_pvalue_ecdf(pvalues_aa, title = 'P values A/A test')\n",
    "print(f'False Positive Rate = {(np.array(pvalues_aa) < alpha).mean()}')"
   ]
  },
  {
   "cell_type": "code",
   "execution_count": 9,
   "id": "6eadd06f",
   "metadata": {},
   "outputs": [
    {
     "name": "stderr",
     "output_type": "stream",
     "text": [
      "100%|████████████████████████████████████| 10000/10000 [01:00<00:00, 164.14it/s]\n"
     ]
    },
    {
     "name": "stdout",
     "output_type": "stream",
     "text": [
      "Power = 0.9007\n"
     ]
    },
    {
     "data": {
      "image/png": "[encoded data removed]",
      "text/plain": [
       "<Figure size 1200x400 with 2 Axes>"
      ]
     },
     "metadata": {},
     "output_type": "display_data"
    }
   ],
   "source": [
    "pvalues_ab = []\n",
    "for i in tqdm(range(10000)):\n",
    "    np.random.shuffle(users_list)\n",
    "    a_group, b_group = users_list[:s_sample_size], users_list[len(users_list) - s_sample_size:]\n",
    "    a, b = df[df['user_id'].isin(a_group)], df[df['user_id'].isin(b_group)]\n",
    "    b['aov'] = b['aov'] + mde\n",
    "    a_var, b_var = get_strat_var(a), get_strat_var(b)\n",
    "    a_mean, b_mean = get_strat_mean(a), get_strat_mean(b)\n",
    "    pvalue = get_pvalue(a_mean, b_mean, a_var, b_var)\n",
    "    pvalues_ab.append(pvalue)\n",
    "    \n",
    "plot_pvalue_ecdf(pvalues_ab, title = 'P values A/B test')\n",
    "print(f'Power = {(np.array(pvalues_ab) < alpha).mean()}')"
   ]
  },
  {
   "cell_type": "markdown",
   "id": "e732bb7b",
   "metadata": {},
   "source": [
    "# The experiment design is done\n",
    "We are ready to run the A/B test on parameters: mde = 5000, std = 72488, alpha = 0.05, beta = 0.1"
   ]
  },
  {
   "cell_type": "code",
   "execution_count": null,
   "id": "b96b9e88",
   "metadata": {},
   "outputs": [],
   "source": []
  },
  {
   "cell_type": "code",
   "execution_count": null,
   "id": "3a68beef",
   "metadata": {},
   "outputs": [],
   "source": []
  }
 ],
 "metadata": {
  "kernelspec": {
   "display_name": "Python 3 (ipykernel)",
   "language": "python",
   "name": "python3"
  },
  "language_info": {
   "codemirror_mode": {
    "name": "ipython",
    "version": 3
   },
   "file_extension": ".py",
   "mimetype": "text/x-python",
   "name": "python",
   "nbconvert_exporter": "python",
   "pygments_lexer": "ipython3",
   "version": "3.11.3"
  }
 },
 "nbformat": 4,
 "nbformat_minor": 5
}
