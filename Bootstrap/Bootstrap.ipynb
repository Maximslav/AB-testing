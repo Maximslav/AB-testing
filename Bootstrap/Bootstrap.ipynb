{
 "cells": [
  {
   "cell_type": "code",
   "execution_count": 1,
   "id": "d9e683bb",
   "metadata": {},
   "outputs": [],
   "source": [
    "import pandas as pd\n",
    "import numpy as np\n",
    "import scipy.stats as stats\n",
    "from tqdm import tqdm\n",
    "import warnings\n",
    "warnings.filterwarnings('ignore')"
   ]
  },
  {
   "cell_type": "markdown",
   "id": "a473ce7e",
   "metadata": {},
   "source": [
    "# Bootstrap is an advanced empirical method of Varience estimation. \n",
    "Widely used in A/B testing for establishing Empirical Confidence Intervals. \n",
    "\n",
    "\n",
    "# Experiment input:\n",
    "The analytics team in UBER was asked to Design an experiment of the New Product Feature. It reduces the Waiting Time for a user using new dispatch algoritm. First, the team should choose the metric of the test. Using Average Waiting time as a metric may not be the best option. New feature may descrease an average time for half of the users but increase for the second half at the same time. One of the analyst suggested to use 99% percentile as a metric which is going to represent an idea that for 99% of orders a user waits no longer than N minutes. Experiment will last for 1 week. Although most of such experiments are conducted using Switchback technique, we are going to assume there is no network effect in experiment. Randomization unit == an order. Also, we are going to use Bootrstrap since it enables to take percentile statistic as a metric"
   ]
  },
  {
   "cell_type": "code",
   "execution_count": 2,
   "id": "8323d86e",
   "metadata": {},
   "outputs": [
    {
     "data": {
      "text/html": [
       "<div>\n",
       "<style scoped>\n",
       "    .dataframe tbody tr th:only-of-type {\n",
       "        vertical-align: middle;\n",
       "    }\n",
       "\n",
       "    .dataframe tbody tr th {\n",
       "        vertical-align: top;\n",
       "    }\n",
       "\n",
       "    .dataframe thead th {\n",
       "        text-align: right;\n",
       "    }\n",
       "</style>\n",
       "<table border=\"1\" class=\"dataframe\">\n",
       "  <thead>\n",
       "    <tr style=\"text-align: right;\">\n",
       "      <th></th>\n",
       "      <th>user_id</th>\n",
       "      <th>trip_id</th>\n",
       "      <th>waiting_time</th>\n",
       "      <th>date</th>\n",
       "    </tr>\n",
       "  </thead>\n",
       "  <tbody>\n",
       "    <tr>\n",
       "      <th>0</th>\n",
       "      <td>1</td>\n",
       "      <td>57a9de67-3f61-487a-ac95-5535baee9468</td>\n",
       "      <td>434</td>\n",
       "      <td>2022-12-05</td>\n",
       "    </tr>\n",
       "    <tr>\n",
       "      <th>1</th>\n",
       "      <td>1</td>\n",
       "      <td>2ed5e70f-20c7-4b49-9f23-ac778754a5e9</td>\n",
       "      <td>900</td>\n",
       "      <td>2022-12-09</td>\n",
       "    </tr>\n",
       "    <tr>\n",
       "      <th>2</th>\n",
       "      <td>1</td>\n",
       "      <td>61521f36-8bc2-4ada-a0f7-9dbb50943975</td>\n",
       "      <td>473</td>\n",
       "      <td>2022-12-10</td>\n",
       "    </tr>\n",
       "    <tr>\n",
       "      <th>3</th>\n",
       "      <td>2</td>\n",
       "      <td>89a3b986-24c7-4556-9e35-4b8eda15e333</td>\n",
       "      <td>500</td>\n",
       "      <td>2022-12-07</td>\n",
       "    </tr>\n",
       "    <tr>\n",
       "      <th>4</th>\n",
       "      <td>2</td>\n",
       "      <td>edd8ec9e-dedb-42ea-9a11-e2cae30f45f1</td>\n",
       "      <td>879</td>\n",
       "      <td>2022-12-07</td>\n",
       "    </tr>\n",
       "  </tbody>\n",
       "</table>\n",
       "</div>"
      ],
      "text/plain": [
       "   user_id                               trip_id  waiting_time        date\n",
       "0        1  57a9de67-3f61-487a-ac95-5535baee9468           434  2022-12-05\n",
       "1        1  2ed5e70f-20c7-4b49-9f23-ac778754a5e9           900  2022-12-09\n",
       "2        1  61521f36-8bc2-4ada-a0f7-9dbb50943975           473  2022-12-10\n",
       "3        2  89a3b986-24c7-4556-9e35-4b8eda15e333           500  2022-12-07\n",
       "4        2  edd8ec9e-dedb-42ea-9a11-e2cae30f45f1           879  2022-12-07"
      ]
     },
     "execution_count": 2,
     "metadata": {},
     "output_type": "execute_result"
    }
   ],
   "source": [
    "# Let's look at our pre-experimental data\n",
    "df = pd.read_csv('data.csv')\n",
    "\"\"\"\n",
    "user_id:: unique client id\n",
    "waiting_time:: the time a passenger waited for the taxi from the moment he placed an order. In seconds\n",
    "date:: date of an order\n",
    "\"\"\"\n",
    "df.head(5)"
   ]
  },
  {
   "cell_type": "code",
   "execution_count": 3,
   "id": "d2191a14",
   "metadata": {},
   "outputs": [
    {
     "name": "stdout",
     "output_type": "stream",
     "text": [
      "Number of users = 10000\n",
      "count    30159.000000\n",
      "mean       477.978713\n",
      "std        242.818242\n",
      "min         60.000000\n",
      "25%        267.000000\n",
      "50%        479.000000\n",
      "75%        687.000000\n",
      "max        900.000000\n",
      "Name: waiting_time, dtype: float64\n"
     ]
    }
   ],
   "source": [
    "print(f'Number of users = {df.user_id.nunique()}')\n",
    "print(df.waiting_time.describe())"
   ]
  },
  {
   "cell_type": "code",
   "execution_count": 4,
   "id": "d77d0f62",
   "metadata": {},
   "outputs": [
    {
     "data": {
      "text/plain": [
       "892.0"
      ]
     },
     "execution_count": 4,
     "metadata": {},
     "output_type": "execute_result"
    }
   ],
   "source": [
    "np.percentile(df.waiting_time, 99)"
   ]
  },
  {
   "cell_type": "markdown",
   "id": "027fbd3c",
   "metadata": {},
   "source": [
    "## Now it is time to calculate Test Design:\n",
    "### Unfortunately we can not estimate sample size using formula \n",
    "Since we use percentile as statistic, there is no sample size formula for percentile differences. Howerer we know, that our design should control First Type and Second Type Error probabilty. Let's use 500 orders for each experiment and validate design with synthetic A/A and A/B tests"
   ]
  },
  {
   "cell_type": "code",
   "execution_count": 5,
   "id": "bc81715f",
   "metadata": {
    "scrolled": true
   },
   "outputs": [
    {
     "name": "stderr",
     "output_type": "stream",
     "text": [
      "100%|███████████████████████████████████████| 5000/5000 [33:59<00:00,  2.45it/s]"
     ]
    },
    {
     "name": "stdout",
     "output_type": "stream",
     "text": [
      "0.0324\n"
     ]
    },
    {
     "name": "stderr",
     "output_type": "stream",
     "text": [
      "\n"
     ]
    }
   ],
   "source": [
    "# A/A test of bootstrap\n",
    "alpha = 0.05\n",
    "beta = 0.1\n",
    "sample_size = 500\n",
    "trips_list = df.trip_id.unique()\n",
    "\n",
    "is_difference = [] # To store results of our bootstrap procedures. 0: zero is not in CI, 1: zero is in CI\n",
    "for i in tqdm(range(5000)): # number of a/a tests\n",
    "    np.random.shuffle(trips_list) # shuffle our sample each a/a test\n",
    "    a, b = trips_list[:sample_size], trips_list[len(trips_list) - sample_size:] # simulate that we took a sample=sample_size\n",
    "    waiting_time_a, waiting_time_b = df[df['trip_id'].isin(a)].waiting_time, df[df['trip_id'].isin(b)].waiting_time\n",
    "    statistics = []\n",
    "    for _ in range(5000): # Bootstrap procedure\n",
    "ж        # take boot samples of our orders with replacement\n",
    "        a, b = np.random.choice(waiting_time_a, size=sample_size, replace=True), np.random.choice(waiting_time_b, size=sample_size, replace=True)\n",
    "        delta = np.percentile(b, 99) - np.percentile(a, 99) # calculate our statistic == 99% percentile diff\n",
    "        statistics.append(delta) # add statistic to list to calculate CI\n",
    "    # Calculate CI using percentile method\n",
    "    left_bound, right_bound = np.percentile(statistics, alpha/2*100), np.percentile(statistics, 100-(alpha/2*100))\n",
    "    if left_bound <= 0 <= right_bound: # Add result to list (pvalues_aa analogue)\n",
    "        is_difference.append(0)\n",
    "    else:\n",
    "        is_difference.append(1)\n",
    "# Calculate FPR\n",
    "print(np.mean(is_difference))"
   ]
  },
  {
   "cell_type": "markdown",
   "id": "f03fb0ba",
   "metadata": {},
   "source": [
    "### Seems like we do control our FPR on Alpha level given Sample size\n",
    "Let's check power of our test given MDE == 20 seconds, and Test Power = 1-Beta (0.9)"
   ]
  },
  {
   "cell_type": "code",
   "execution_count": 6,
   "id": "7758ad30",
   "metadata": {},
   "outputs": [
    {
     "name": "stderr",
     "output_type": "stream",
     "text": [
      "100%|███████████████████████████████████████| 5000/5000 [38:29<00:00,  2.17it/s]"
     ]
    },
    {
     "name": "stdout",
     "output_type": "stream",
     "text": [
      "0.9252\n"
     ]
    },
    {
     "name": "stderr",
     "output_type": "stream",
     "text": [
      "\n"
     ]
    }
   ],
   "source": [
    "# A/B test of bootstrap\n",
    "mde = 20\n",
    "\n",
    "is_difference = [] # To store results of our bootstrap procedures. 0: zero is not in CI, 1: zero is in CI\n",
    "for i in tqdm(range(5000)): # number of a/a tests\n",
    "    np.random.shuffle(trips_list) # shuffle our sample each a/a test\n",
    "    a, b = trips_list[:sample_size], trips_list[len(trips_list) - sample_size:] # simulate that we took a sample=sample_size\n",
    "    waiting_time_a, waiting_time_b = df[df['trip_id'].isin(a)].waiting_time, df[df['trip_id'].isin(b)].waiting_time\n",
    "    statistics = []\n",
    "    for _ in range(5000): # Bootstrap procedure\n",
    "        # take boot samples of our orders with replacement\n",
    "        a, b = np.random.choice(waiting_time_a, size=sample_size, replace=True), np.random.choice(waiting_time_b, size=sample_size, replace=True)\n",
    "        delta = np.percentile(b, 99)-mde - np.percentile(a, 99) # calculate our statistic == 99% percentile diff\n",
    "        statistics.append(delta) # add statistic to list to calculate CI\n",
    "    # Calculate CI using percentile method\n",
    "    left_bound, right_bound = np.percentile(statistics, alpha/2*100), np.percentile(statistics, 100-(alpha/2*100))\n",
    "    if left_bound <= 0 <= right_bound: # Add result to list (pvalues_aa analogue)\n",
    "        is_difference.append(0)\n",
    "    else:\n",
    "        is_difference.append(1)\n",
    "# Calculate FPR\n",
    "print(np.mean(is_difference))"
   ]
  },
  {
   "cell_type": "markdown",
   "id": "f130061c",
   "metadata": {},
   "source": [
    "# False Positive rate is on Alpha level and The Power of test is on (1-Beta) level\n",
    " Which means we are able to conduct the A/B test given MDE, Alpha, Beta and Sample size to test 99th percentile difference\n"
   ]
  },
  {
   "cell_type": "code",
   "execution_count": null,
   "id": "5ee491af",
   "metadata": {},
   "outputs": [],
   "source": []
  }
 ],
 "metadata": {
  "kernelspec": {
   "display_name": "Python 3 (ipykernel)",
   "language": "python",
   "name": "python3"
  },
  "language_info": {
   "codemirror_mode": {
    "name": "ipython",
    "version": 3
   },
   "file_extension": ".py",
   "mimetype": "text/x-python",
   "name": "python",
   "nbconvert_exporter": "python",
   "pygments_lexer": "ipython3",
   "version": "3.11.3"
  }
 },
 "nbformat": 4,
 "nbformat_minor": 5
}
