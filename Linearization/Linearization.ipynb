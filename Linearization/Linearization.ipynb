{
 "cells": [
  {
   "cell_type": "code",
   "execution_count": 1,
   "id": "d029aeb6",
   "metadata": {},
   "outputs": [],
   "source": [
    "import pandas as pd\n",
    "import numpy as np\n",
    "import scipy.stats as stats\n",
    "import seaborn as sns\n",
    "import matplotlib.pyplot as plt\n",
    "from datetime import datetime\n",
    "import warnings\n",
    "from tqdm import tqdm\n",
    "import time\n",
    "warnings.filterwarnings('ignore')"
   ]
  },
  {
   "cell_type": "markdown",
   "id": "dcb6dba5",
   "metadata": {},
   "source": [
    "\n",
    "# Ratio Metrics A/B test Design\n",
    "\n",
    "Working with ratio metrics differs from cases with custom metrics. A ratio metric can be seen as an aggregation of two custom metrics. In this file, I will be examining the Average Order Value (sum of purchases / # of purchases). The specificity of ratio metrics is that, for comparing averages using a t-test, we cannot apply the traditional principle of 1 observation == 1 row because the data will be dependent, since one user tends to have higher Average Order Value than another. In this file, we will address this issue using a linearization approach, which will help transition from a ratio metric to a custom metric. We will calculate the design of our test and validate it with synthetic tests\n",
    "\n",
    "\n",
    "\n",
    "\n",
    "\n",
    "### Experiment input:\n",
    "We want to increase the average order value on our website. The average order value is a ratio metric (sum of purchases / # of purchases). To apply a t-test we are going to use Linearization method. \n",
    "\n",
    "Hypothesis: With the new recommendation algorithm in the cart based on ML, the average order value should increase. What are we changing? The recommendation algorithm in the cart. The target metric == average order value. All users who landed in the test group and placed an order on the website will participate in the experiment. Experiment will last for 2 weeks."
   ]
  },
  {
   "cell_type": "code",
   "execution_count": 2,
   "id": "681ba016",
   "metadata": {},
   "outputs": [
    {
     "data": {
      "text/html": [
       "<div>\n",
       "<style scoped>\n",
       "    .dataframe tbody tr th:only-of-type {\n",
       "        vertical-align: middle;\n",
       "    }\n",
       "\n",
       "    .dataframe tbody tr th {\n",
       "        vertical-align: top;\n",
       "    }\n",
       "\n",
       "    .dataframe thead th {\n",
       "        text-align: right;\n",
       "    }\n",
       "</style>\n",
       "<table border=\"1\" class=\"dataframe\">\n",
       "  <thead>\n",
       "    <tr style=\"text-align: right;\">\n",
       "      <th></th>\n",
       "      <th>order_id</th>\n",
       "      <th>revenue</th>\n",
       "      <th>order_date</th>\n",
       "      <th>user_id</th>\n",
       "    </tr>\n",
       "  </thead>\n",
       "  <tbody>\n",
       "    <tr>\n",
       "      <th>0</th>\n",
       "      <td>0002dee6-1da3-4faf-83c0-dc36e3c50f66</td>\n",
       "      <td>106000</td>\n",
       "      <td>2023-11-17</td>\n",
       "      <td>22830274955380832781943083784441140139</td>\n",
       "    </tr>\n",
       "    <tr>\n",
       "      <th>1</th>\n",
       "      <td>00065e74-4778-45e1-97e2-66e231aa28d2</td>\n",
       "      <td>50000</td>\n",
       "      <td>2023-11-09</td>\n",
       "      <td>189448227854156374088676719303905172803</td>\n",
       "    </tr>\n",
       "    <tr>\n",
       "      <th>2</th>\n",
       "      <td>00072bdc-27bd-40f3-9a2f-357a87223a14</td>\n",
       "      <td>99000</td>\n",
       "      <td>2023-11-10</td>\n",
       "      <td>97671329982867732427142865366346279565</td>\n",
       "    </tr>\n",
       "    <tr>\n",
       "      <th>3</th>\n",
       "      <td>0007eedc-f5da-4826-ad60-2f5de9079828</td>\n",
       "      <td>92000</td>\n",
       "      <td>2023-11-06</td>\n",
       "      <td>1767834020355101491163632652999526981</td>\n",
       "    </tr>\n",
       "    <tr>\n",
       "      <th>4</th>\n",
       "      <td>00081c0d-3f38-4a57-85f6-071d843e0472</td>\n",
       "      <td>89000</td>\n",
       "      <td>2023-11-14</td>\n",
       "      <td>285723880525960879566269222887850603842</td>\n",
       "    </tr>\n",
       "  </tbody>\n",
       "</table>\n",
       "</div>"
      ],
      "text/plain": [
       "                               order_id  revenue order_date  \\\n",
       "0  0002dee6-1da3-4faf-83c0-dc36e3c50f66   106000 2023-11-17   \n",
       "1  00065e74-4778-45e1-97e2-66e231aa28d2    50000 2023-11-09   \n",
       "2  00072bdc-27bd-40f3-9a2f-357a87223a14    99000 2023-11-10   \n",
       "3  0007eedc-f5da-4826-ad60-2f5de9079828    92000 2023-11-06   \n",
       "4  00081c0d-3f38-4a57-85f6-071d843e0472    89000 2023-11-14   \n",
       "\n",
       "                                   user_id  \n",
       "0   22830274955380832781943083784441140139  \n",
       "1  189448227854156374088676719303905172803  \n",
       "2   97671329982867732427142865366346279565  \n",
       "3    1767834020355101491163632652999526981  \n",
       "4  285723880525960879566269222887850603842  "
      ]
     },
     "execution_count": 2,
     "metadata": {},
     "output_type": "execute_result"
    }
   ],
   "source": [
    "# Let's import our Fake pre-experimental data in order to estimate the test design\n",
    "df = pd.read_csv('pre-experiment_data.csv')\n",
    "\n",
    "# Filter data to get the closest pre-experimental period with the same number of days\n",
    "df['order_date'] = pd.to_datetime(df['order_date'])\n",
    "df = df[(df['order_date'] >= datetime(2023,11,6))\n",
    "       & (df['order_date'] <= datetime(2023,11,19))]\n",
    "\n",
    "df.head(5)"
   ]
  },
  {
   "cell_type": "code",
   "execution_count": 3,
   "id": "fbc5a5d0",
   "metadata": {
    "scrolled": false
   },
   "outputs": [
    {
     "data": {
      "text/html": [
       "<div>\n",
       "<style scoped>\n",
       "    .dataframe tbody tr th:only-of-type {\n",
       "        vertical-align: middle;\n",
       "    }\n",
       "\n",
       "    .dataframe tbody tr th {\n",
       "        vertical-align: top;\n",
       "    }\n",
       "\n",
       "    .dataframe thead th {\n",
       "        text-align: right;\n",
       "    }\n",
       "</style>\n",
       "<table border=\"1\" class=\"dataframe\">\n",
       "  <thead>\n",
       "    <tr style=\"text-align: right;\">\n",
       "      <th></th>\n",
       "      <th>user_id</th>\n",
       "      <th>x</th>\n",
       "      <th>y</th>\n",
       "    </tr>\n",
       "  </thead>\n",
       "  <tbody>\n",
       "    <tr>\n",
       "      <th>0</th>\n",
       "      <td>100001436828830373974506929290267578405</td>\n",
       "      <td>135000</td>\n",
       "      <td>1</td>\n",
       "    </tr>\n",
       "    <tr>\n",
       "      <th>1</th>\n",
       "      <td>100009995178437954493335519525704927432</td>\n",
       "      <td>150000</td>\n",
       "      <td>2</td>\n",
       "    </tr>\n",
       "    <tr>\n",
       "      <th>2</th>\n",
       "      <td>100016796050034219291016866675634396013</td>\n",
       "      <td>300000</td>\n",
       "      <td>2</td>\n",
       "    </tr>\n",
       "    <tr>\n",
       "      <th>3</th>\n",
       "      <td>100017488156497181925239570976442151637</td>\n",
       "      <td>98999</td>\n",
       "      <td>1</td>\n",
       "    </tr>\n",
       "    <tr>\n",
       "      <th>4</th>\n",
       "      <td>100019330275844793088214511561189720007</td>\n",
       "      <td>151999</td>\n",
       "      <td>1</td>\n",
       "    </tr>\n",
       "  </tbody>\n",
       "</table>\n",
       "</div>"
      ],
      "text/plain": [
       "                                   user_id       x  y\n",
       "0  100001436828830373974506929290267578405  135000  1\n",
       "1  100009995178437954493335519525704927432  150000  2\n",
       "2  100016796050034219291016866675634396013  300000  2\n",
       "3  100017488156497181925239570976442151637   98999  1\n",
       "4  100019330275844793088214511561189720007  151999  1"
      ]
     },
     "execution_count": 3,
     "metadata": {},
     "output_type": "execute_result"
    }
   ],
   "source": [
    "# To apply linearization we need to aggregate data for each user. \n",
    "# Numerator = x = sum of purchases, denominator = y = number of purchases\n",
    "\n",
    "def get_grouped(df): # Function takes non-aggregated df with and outputs grouped df\n",
    "    df = df.groupby('user_id')['revenue'].agg(['sum','count']).reset_index() \\\n",
    "        .rename(columns = {'user_id':'user_id', 'sum':'x', 'count':'y'})\n",
    "    return df\n",
    "\n",
    "df_grouped = get_grouped(df)\n",
    "df_grouped.head(5)"
   ]
  },
  {
   "cell_type": "code",
   "execution_count": null,
   "id": "1f57f444",
   "metadata": {},
   "outputs": [],
   "source": []
  },
  {
   "cell_type": "markdown",
   "id": "b337e0d1",
   "metadata": {},
   "source": [
    "### Linearization:\n",
    "\n",
    "To move to linearization metric from ratio metric we need to:\n",
    "1. Calculate kappa coefficient which is a ratio metric for CONTROL GROUP\n",
    "2. Calculate linearization metric with: x - y * kappa"
   ]
  },
  {
   "cell_type": "code",
   "execution_count": 4,
   "id": "6bd68b7a",
   "metadata": {
    "scrolled": true
   },
   "outputs": [
    {
     "name": "stdout",
     "output_type": "stream",
     "text": [
      "kappa = 109616.1794138002\n"
     ]
    },
    {
     "data": {
      "text/html": [
       "<div>\n",
       "<style scoped>\n",
       "    .dataframe tbody tr th:only-of-type {\n",
       "        vertical-align: middle;\n",
       "    }\n",
       "\n",
       "    .dataframe tbody tr th {\n",
       "        vertical-align: top;\n",
       "    }\n",
       "\n",
       "    .dataframe thead th {\n",
       "        text-align: right;\n",
       "    }\n",
       "</style>\n",
       "<table border=\"1\" class=\"dataframe\">\n",
       "  <thead>\n",
       "    <tr style=\"text-align: right;\">\n",
       "      <th></th>\n",
       "      <th>user_id</th>\n",
       "      <th>x</th>\n",
       "      <th>y</th>\n",
       "      <th>l_metric</th>\n",
       "    </tr>\n",
       "  </thead>\n",
       "  <tbody>\n",
       "    <tr>\n",
       "      <th>0</th>\n",
       "      <td>100001436828830373974506929290267578405</td>\n",
       "      <td>135000</td>\n",
       "      <td>1</td>\n",
       "      <td>25383.820586</td>\n",
       "    </tr>\n",
       "    <tr>\n",
       "      <th>1</th>\n",
       "      <td>100009995178437954493335519525704927432</td>\n",
       "      <td>150000</td>\n",
       "      <td>2</td>\n",
       "      <td>-69232.358828</td>\n",
       "    </tr>\n",
       "    <tr>\n",
       "      <th>2</th>\n",
       "      <td>100016796050034219291016866675634396013</td>\n",
       "      <td>300000</td>\n",
       "      <td>2</td>\n",
       "      <td>80767.641172</td>\n",
       "    </tr>\n",
       "    <tr>\n",
       "      <th>3</th>\n",
       "      <td>100017488156497181925239570976442151637</td>\n",
       "      <td>98999</td>\n",
       "      <td>1</td>\n",
       "      <td>-10617.179414</td>\n",
       "    </tr>\n",
       "    <tr>\n",
       "      <th>4</th>\n",
       "      <td>100019330275844793088214511561189720007</td>\n",
       "      <td>151999</td>\n",
       "      <td>1</td>\n",
       "      <td>42382.820586</td>\n",
       "    </tr>\n",
       "  </tbody>\n",
       "</table>\n",
       "</div>"
      ],
      "text/plain": [
       "                                   user_id       x  y      l_metric\n",
       "0  100001436828830373974506929290267578405  135000  1  25383.820586\n",
       "1  100009995178437954493335519525704927432  150000  2 -69232.358828\n",
       "2  100016796050034219291016866675634396013  300000  2  80767.641172\n",
       "3  100017488156497181925239570976442151637   98999  1 -10617.179414\n",
       "4  100019330275844793088214511561189720007  151999  1  42382.820586"
      ]
     },
     "execution_count": 4,
     "metadata": {},
     "output_type": "execute_result"
    }
   ],
   "source": [
    "def get_kappa(x,y): # Function takes numerator and denominator of ratio metric then outputs kappa\n",
    "    return x.sum() / y.sum()\n",
    "\n",
    "def get_l_metric(df, kappa): # Funciton takes grouped df (1 user == 1 raw) and kappa then outputs df with l_metric\n",
    "    df['l_metric'] = df['x'] - df['y'] * kappa\n",
    "    return df\n",
    "\n",
    "kappa = get_kappa(df_grouped['x'], df_grouped['y'])\n",
    "df_grouped = get_l_metric(df_grouped, kappa)\n",
    "print(f'kappa = {kappa}')\n",
    "df_grouped.head(5)"
   ]
  },
  {
   "cell_type": "code",
   "execution_count": null,
   "id": "04753fc9",
   "metadata": {},
   "outputs": [],
   "source": []
  },
  {
   "cell_type": "markdown",
   "id": "0895befb",
   "metadata": {},
   "source": [
    "### In order to determine sample_size for the experiment we need to determine alpha, beta, mde, and estimate standard deviation"
   ]
  },
  {
   "cell_type": "code",
   "execution_count": 5,
   "id": "f10eba16",
   "metadata": {},
   "outputs": [
    {
     "name": "stdout",
     "output_type": "stream",
     "text": [
      "alpha = 0.05, \n",
      "beta = 0.1,\n",
      "std_l = 94477.5183838617,\n",
      "mde of ratio metric = 3000, \n",
      "mde_l = 3628.874609710847\n"
     ]
    }
   ],
   "source": [
    "alpha = 0.05\n",
    "beta = 0.1\n",
    "mde = 3000   # we determined mde of ratio metric as 3000\n",
    "mde_l = mde * df_grouped['y'].mean() # for linearization metric we need to convert mde since we aproached new metric\n",
    "std_l = df_grouped.l_metric.std()\n",
    "print(f'''alpha = {alpha}, \n",
    "beta = {beta},\n",
    "std_l = {std_l},\n",
    "mde of ratio metric = {mde}, \n",
    "mde_l = {mde_l}''')"
   ]
  },
  {
   "cell_type": "code",
   "execution_count": 6,
   "id": "c74f896d",
   "metadata": {},
   "outputs": [
    {
     "name": "stdout",
     "output_type": "stream",
     "text": [
      "Sample_size > 14244\n"
     ]
    }
   ],
   "source": [
    "# Now we can estimate sample_size:\n",
    "def get_sample_size(mde, std, alpha, beta):\n",
    "    numerator = 2 * (stats.norm.ppf(1-alpha/2) + stats.norm.ppf(1-beta))**2 * std**2\n",
    "    denominator = mde**2\n",
    "    return round(numerator / denominator)\n",
    "sample_size = get_sample_size(mde_l, std_l, alpha, beta)\n",
    "print(f'Sample_size > {sample_size}')"
   ]
  },
  {
   "cell_type": "code",
   "execution_count": null,
   "id": "7db29aec",
   "metadata": {},
   "outputs": [],
   "source": []
  },
  {
   "cell_type": "markdown",
   "id": "bd3caacf",
   "metadata": {},
   "source": [
    "### We designed the experiment, but... \n",
    "Sample size seems to be too large, it is about 65% of all observations we get as a data. Maybe we should try to\n",
    "increase the power/sensivity of our test to use less clients for the experiment. We have to reduce a varience. \n",
    "Let's use CUPED! It allows us to get rid of \"exessive\" variance explained by covariate. \n",
    "\n",
    "Let's calculate Cuped by taking our clients historical data (pre-pre-experimental period), then reduce variance\n",
    "\n",
    "pre-pre-experimental period assign as k_df"
   ]
  },
  {
   "cell_type": "code",
   "execution_count": 7,
   "id": "a29c2984",
   "metadata": {},
   "outputs": [
    {
     "data": {
      "text/html": [
       "<div>\n",
       "<style scoped>\n",
       "    .dataframe tbody tr th:only-of-type {\n",
       "        vertical-align: middle;\n",
       "    }\n",
       "\n",
       "    .dataframe tbody tr th {\n",
       "        vertical-align: top;\n",
       "    }\n",
       "\n",
       "    .dataframe thead th {\n",
       "        text-align: right;\n",
       "    }\n",
       "</style>\n",
       "<table border=\"1\" class=\"dataframe\">\n",
       "  <thead>\n",
       "    <tr style=\"text-align: right;\">\n",
       "      <th></th>\n",
       "      <th>user_id</th>\n",
       "      <th>x</th>\n",
       "      <th>y</th>\n",
       "      <th>l_metric</th>\n",
       "    </tr>\n",
       "  </thead>\n",
       "  <tbody>\n",
       "    <tr>\n",
       "      <th>1</th>\n",
       "      <td>100016796050034219291016866675634396013</td>\n",
       "      <td>101000</td>\n",
       "      <td>1</td>\n",
       "      <td>-8616.179414</td>\n",
       "    </tr>\n",
       "    <tr>\n",
       "      <th>2</th>\n",
       "      <td>100019330275844793088214511561189720007</td>\n",
       "      <td>120000</td>\n",
       "      <td>1</td>\n",
       "      <td>10383.820586</td>\n",
       "    </tr>\n",
       "    <tr>\n",
       "      <th>9</th>\n",
       "      <td>100073779418434809711127979498663747019</td>\n",
       "      <td>285000</td>\n",
       "      <td>2</td>\n",
       "      <td>65767.641172</td>\n",
       "    </tr>\n",
       "    <tr>\n",
       "      <th>11</th>\n",
       "      <td>100093885029525955483560361063391875313</td>\n",
       "      <td>76000</td>\n",
       "      <td>1</td>\n",
       "      <td>-33616.179414</td>\n",
       "    </tr>\n",
       "    <tr>\n",
       "      <th>12</th>\n",
       "      <td>100102794847195698781366525112522334095</td>\n",
       "      <td>284000</td>\n",
       "      <td>2</td>\n",
       "      <td>64767.641172</td>\n",
       "    </tr>\n",
       "  </tbody>\n",
       "</table>\n",
       "</div>"
      ],
      "text/plain": [
       "                                    user_id       x  y      l_metric\n",
       "1   100016796050034219291016866675634396013  101000  1  -8616.179414\n",
       "2   100019330275844793088214511561189720007  120000  1  10383.820586\n",
       "9   100073779418434809711127979498663747019  285000  2  65767.641172\n",
       "11  100093885029525955483560361063391875313   76000  1 -33616.179414\n",
       "12  100102794847195698781366525112522334095  284000  2  64767.641172"
      ]
     },
     "execution_count": 7,
     "metadata": {},
     "output_type": "execute_result"
    }
   ],
   "source": [
    "k_df = pd.read_csv('pre-pre-experiment_data.csv') # Import pre-pre-experimental data\n",
    "k_grouped = get_grouped(k_df) # aggregate df to use linearization\n",
    "\n",
    "# We need to keep only those users that \"participate\" in our pre-experimental period\n",
    "k_grouped = k_grouped[k_grouped['user_id'].isin(df_grouped.user_id.unique())]\n",
    "\n",
    "# Let's calculate l_metric for pre-pre-experimental data\n",
    "k_grouped = get_l_metric(k_grouped, kappa)\n",
    "k_grouped.head(5)"
   ]
  },
  {
   "cell_type": "code",
   "execution_count": 8,
   "id": "d8b0effc",
   "metadata": {},
   "outputs": [
    {
     "data": {
      "text/html": [
       "<div>\n",
       "<style scoped>\n",
       "    .dataframe tbody tr th:only-of-type {\n",
       "        vertical-align: middle;\n",
       "    }\n",
       "\n",
       "    .dataframe tbody tr th {\n",
       "        vertical-align: top;\n",
       "    }\n",
       "\n",
       "    .dataframe thead th {\n",
       "        text-align: right;\n",
       "    }\n",
       "</style>\n",
       "<table border=\"1\" class=\"dataframe\">\n",
       "  <thead>\n",
       "    <tr style=\"text-align: right;\">\n",
       "      <th></th>\n",
       "      <th>user_id</th>\n",
       "      <th>cuped_metric</th>\n",
       "    </tr>\n",
       "  </thead>\n",
       "  <tbody>\n",
       "    <tr>\n",
       "      <th>0</th>\n",
       "      <td>100001436828830373974506929290267578405</td>\n",
       "      <td>24105.851622</td>\n",
       "    </tr>\n",
       "    <tr>\n",
       "      <th>1</th>\n",
       "      <td>100009995178437954493335519525704927432</td>\n",
       "      <td>-70510.327792</td>\n",
       "    </tr>\n",
       "    <tr>\n",
       "      <th>2</th>\n",
       "      <td>100016796050034219291016866675634396013</td>\n",
       "      <td>84064.866660</td>\n",
       "    </tr>\n",
       "    <tr>\n",
       "      <th>3</th>\n",
       "      <td>100017488156497181925239570976442151637</td>\n",
       "      <td>-11895.148378</td>\n",
       "    </tr>\n",
       "    <tr>\n",
       "      <th>4</th>\n",
       "      <td>100019330275844793088214511561189720007</td>\n",
       "      <td>35591.039053</td>\n",
       "    </tr>\n",
       "  </tbody>\n",
       "</table>\n",
       "</div>"
      ],
      "text/plain": [
       "                                   user_id  cuped_metric\n",
       "0  100001436828830373974506929290267578405  24105.851622\n",
       "1  100009995178437954493335519525704927432 -70510.327792\n",
       "2  100016796050034219291016866675634396013  84064.866660\n",
       "3  100017488156497181925239570976442151637 -11895.148378\n",
       "4  100019330275844793088214511561189720007  35591.039053"
      ]
     },
     "execution_count": 8,
     "metadata": {},
     "output_type": "execute_result"
    }
   ],
   "source": [
    "# Now we are going to merge our pre-experimental and pre-pre-experimental data\n",
    "# m:: metric in pre-experimental period\n",
    "# c:: covariate (same metric during pre-pre-experimental period)\n",
    "df_grouped = df_grouped.rename(columns = {'l_metric':'m'}).merge(k_grouped[['user_id', 'l_metric']].rename(columns = {'l_metric':'c'}), how = 'left', on = 'user_id').fillna(0)\n",
    "\n",
    "def get_cuped(df): # Function takes pd.DataFrames with m and c columns and return pd.DataFrame with cuped_metric\n",
    "    \"\"\"\n",
    "    m:: metric during pre-experimental period\n",
    "    c:: covariate\n",
    "    \n",
    "    return df\n",
    "    \"\"\"\n",
    "    tetta = np.cov(df['m'],df['c'])[0,1] / np.var(df['c'])\n",
    "    df['cuped_metric'] = df['m'] - tetta * (df['c'] - np.mean(df['c']))\n",
    "    return df\n",
    "                 \n",
    "# Now let's determine Cuped metric \n",
    "df_grouped = get_cuped(df_grouped)\n",
    "df_grouped[['user_id', 'cuped_metric']].head(5)"
   ]
  },
  {
   "cell_type": "code",
   "execution_count": 9,
   "id": "415e886b",
   "metadata": {},
   "outputs": [
    {
     "name": "stdout",
     "output_type": "stream",
     "text": [
      "Std for cuped metric = 91856.66988529915\n",
      "Std without cuped = 94477.5183838617\n",
      "Cuped sample size = 13465\n",
      "Sample size without cuped = 14244\n"
     ]
    }
   ],
   "source": [
    "# Now let's estimate standard deviation for cuped metric to calculate sample size\n",
    "std_cuped = df_grouped['cuped_metric'].std()\n",
    "cuped_sample_size = get_sample_size(mde_l, std_cuped, alpha, beta)\n",
    "print(f'Std for cuped metric = {std_cuped}')\n",
    "print(f'Std without cuped = {std_l}')\n",
    "print(f'Cuped sample size = {cuped_sample_size}')\n",
    "print(f'Sample size without cuped = {sample_size}')"
   ]
  },
  {
   "cell_type": "markdown",
   "id": "546053b1",
   "metadata": {},
   "source": [
    "We reduced our variance by 5,4% and our sample size decreased by 5,4% as well. Not so much difference. \n",
    "Maybe our metric and covarate are not correlated enough to reduce sample size?"
   ]
  },
  {
   "cell_type": "code",
   "execution_count": 10,
   "id": "efa7431e",
   "metadata": {},
   "outputs": [
    {
     "name": "stdout",
     "output_type": "stream",
     "text": [
      "Our metric and covariate have correlation coefficient 0.23\n"
     ]
    }
   ],
   "source": [
    "pearson_corr = np.corrcoef(df_grouped['m'],df_grouped['c'])[0][1]\n",
    "print(f'Our metric and covariate have correlation coefficient {round(pearson_corr,2)}')"
   ]
  },
  {
   "cell_type": "markdown",
   "id": "80336f67",
   "metadata": {},
   "source": [
    "We were right, our metric and covariate have a relatively low correlation coefficient. \n",
    "Maybe next time we will try another period (4 weeks or 5 weeks) for estimation of covariate"
   ]
  },
  {
   "cell_type": "code",
   "execution_count": null,
   "id": "4da69ff4",
   "metadata": {},
   "outputs": [],
   "source": []
  },
  {
   "cell_type": "markdown",
   "id": "b529f36b",
   "metadata": {},
   "source": [
    "# A/A and A/B tests to check our design\n",
    "To make sure our experiment design controls first type error and second type error we can try it on historical data. Simulate our test many times."
   ]
  },
  {
   "cell_type": "code",
   "execution_count": 19,
   "id": "66a380a4",
   "metadata": {},
   "outputs": [
    {
     "name": "stderr",
     "output_type": "stream",
     "text": [
      "100%|███████████████████████████████████████| 5000/5000 [06:00<00:00, 13.85it/s]\n"
     ]
    },
    {
     "name": "stdout",
     "output_type": "stream",
     "text": [
      "First Type Error = 0.0502\n"
     ]
    },
    {
     "data": {
      "image/png": "[encoded data removed]",
      "text/plain": [
       "<Figure size 1200x400 with 2 Axes>"
      ]
     },
     "metadata": {},
     "output_type": "display_data"
    }
   ],
   "source": [
    "# A/A test of ratio metric using linearization + cuped\n",
    "user_ids = df.user_id.unique().tolist()\n",
    "pvalues_aa = []\n",
    "\n",
    "for i in tqdm(range(5000)):\n",
    "    # Let's assign pre-experimental period as df_1 and pre-pre-experimental period as df_0 \n",
    "    df_1 = get_grouped(df)\n",
    "    np.random.shuffle(user_ids)\n",
    "    a1, a2 = user_ids[:cuped_sample_size], user_ids[len(user_ids) - cuped_sample_size:]\n",
    "    a1, a2 = df_1[df_1['user_id'].isin(a1)].assign(group = 0), df_1[df_1['user_id'].isin(a2)].assign(group = 1)\n",
    "    \n",
    "    kappa = get_kappa(a1['x'], a1['y'])\n",
    "    df_1 = get_l_metric(pd.concat([a1, a2]), kappa)\n",
    "    df_0 = get_grouped(k_df) # pre-pre-experimental period\n",
    "    df_0 = df_0.merge(df_1[['user_id', 'group']], how = 'right', on = 'user_id').fillna(0)\n",
    "    df_0 = get_l_metric(df_0, kappa)\n",
    "    df_ = get_cuped(df_1.rename(columns = {'l_metric':'m'}) \\\n",
    "                           .merge(df_0.rename(columns = {'l_metric':'c'})[['user_id', 'c']], on = 'user_id'))\n",
    "    \n",
    "    pvalue = stats.ttest_ind(df_.query('group == 1') \\\n",
    "                             .cuped_metric, df_.query('group == 0').cuped_metric, alternative = 'two-sided').pvalue\n",
    "    pvalues_aa.append(pvalue)\n",
    "    \n",
    "def plot_pvalue_ecdf(pvalues, title=None): # Function creates P-value empirical distribution\n",
    "    fig, (ax1, ax2) = plt.subplots(1, 2, figsize=(12, 4))\n",
    "\n",
    "    if title:\n",
    "        plt.suptitle(title)\n",
    "\n",
    "    sns.histplot(pvalues, ax=ax1, bins=20, stat='density')\n",
    "    ax1.plot([0,1],[1,1], 'k--')\n",
    "    ax1.set(xlabel='p-value', ylabel='Density')\n",
    "\n",
    "    sns.ecdfplot(pvalues, ax=ax2)\n",
    "    ax2.plot([0,1],[0,1], 'k--')\n",
    "    ax2.set(xlabel='p-value', ylabel='Probability')\n",
    "    ax2.grid()\n",
    "    \n",
    "plot_pvalue_ecdf(pvalues_aa, title = 'P values A/A test')\n",
    "print(f'First Type Error = {(np.array(pvalues_aa) < alpha).mean()}')"
   ]
  },
  {
   "cell_type": "code",
   "execution_count": 22,
   "id": "8853017e",
   "metadata": {
    "scrolled": false
   },
   "outputs": [
    {
     "name": "stderr",
     "output_type": "stream",
     "text": [
      "100%|███████████████████████████████████████| 5000/5000 [11:35<00:00,  7.19it/s]\n"
     ]
    },
    {
     "name": "stdout",
     "output_type": "stream",
     "text": [
      "Power = 0.8996\n"
     ]
    },
    {
     "data": {
      "image/png": "[encoded data removed]",
      "text/plain": [
       "<Figure size 1200x400 with 2 Axes>"
      ]
     },
     "metadata": {},
     "output_type": "display_data"
    }
   ],
   "source": [
    "# A/B test of ratio metric using linearization + cuped\n",
    "pvalues_ab = []\n",
    "\n",
    "for i in tqdm(range(5000)):\n",
    "    # Let's assign pre-experimental period as df_1 and pre-pre-experimental period as df_0 \n",
    "    df_1 = get_grouped(df)\n",
    "    np.random.shuffle(user_ids)\n",
    "    a, b = user_ids[:cuped_sample_size], user_ids[len(user_ids) - cuped_sample_size:]\n",
    "    a, b = df_1[df_1['user_id'].isin(a)].assign(group = 0), df_1[df_1['user_id'].isin(b)].assign(group = 1)\n",
    "    \n",
    "    kappa = get_kappa(a['x'], a['y'])\n",
    "    df_1 = get_l_metric(pd.concat([a, b]), kappa)\n",
    "    df_1['l_metric'] = df_1.apply(lambda row: row['l_metric'] if row['group'] == 0 else row['l_metric'] + mde_l, axis=1)\n",
    "    df_0 = get_grouped(k_df) # pre-pre-experimental period\n",
    "    df_0 = df_0.merge(df_1[['user_id', 'group']], how = 'right', on = 'user_id').fillna(0)\n",
    "    df_0 = get_l_metric(df_0, kappa)\n",
    "    df_ = get_cuped(df_1.rename(columns = {'l_metric':'m'}) \\\n",
    "                           .merge(df_0.rename(columns = {'l_metric':'c'})[['user_id', 'c']], on = 'user_id'))\n",
    "    \n",
    "    pvalue = stats.ttest_ind(df_.query('group == 1').cuped_metric, df_.query('group == 0') \\\n",
    "                             .cuped_metric, alternative = 'two-sided').pvalue\n",
    "    pvalues_ab.append(pvalue)\n",
    "\n",
    "plot_pvalue_ecdf(pvalues_ab, title = 'P values A/B test')\n",
    "print(f'Power = {(np.array(pvalues_ab) < alpha).mean()}')"
   ]
  },
  {
   "cell_type": "markdown",
   "id": "aecc4f78",
   "metadata": {},
   "source": [
    "# Both First Type Error Probabilty and Power (1-beta) are controlled\n",
    "This means the test design is correct and we can use the parameters below to conduct the experiment:"
   ]
  },
  {
   "cell_type": "code",
   "execution_count": 23,
   "id": "e5df6888",
   "metadata": {},
   "outputs": [
    {
     "name": "stdout",
     "output_type": "stream",
     "text": [
      "Metric = Average Order Value (sum of purchases / # of purchases)\n",
      "Sample size = 13465\n",
      "Duration = 2 weeks\n",
      "Alpha = 0.05, Beta = 0.1\n",
      "Mde of ratio metric = 3000\n"
     ]
    }
   ],
   "source": [
    "print(f'Metric = Average Order Value (sum of purchases / # of purchases)')\n",
    "print(f'Sample size = {cuped_sample_size}')\n",
    "print(f'Duration = 2 weeks')\n",
    "print(f'Alpha = {alpha}, Beta = {beta}')\n",
    "print(f'Mde of ratio metric = {mde}')"
   ]
  },
  {
   "cell_type": "code",
   "execution_count": null,
   "id": "194d621e",
   "metadata": {},
   "outputs": [],
   "source": []
  }
 ],
 "metadata": {
  "kernelspec": {
   "display_name": "Python 3 (ipykernel)",
   "language": "python",
   "name": "python3"
  },
  "language_info": {
   "codemirror_mode": {
    "name": "ipython",
    "version": 3
   },
   "file_extension": ".py",
   "mimetype": "text/x-python",
   "name": "python",
   "nbconvert_exporter": "python",
   "pygments_lexer": "ipython3",
   "version": "3.11.3"
  }
 },
 "nbformat": 4,
 "nbformat_minor": 5
}
